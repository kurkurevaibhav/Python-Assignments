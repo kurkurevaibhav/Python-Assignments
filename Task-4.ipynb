{
 "cells": [
  {
   "cell_type": "markdown",
   "metadata": {},
   "source": [
    "### Task-4\n",
    "#Add item 70 after 60 in the following Python List \n",
    "\n",
    "input\n",
    "\n",
    "list1 = [10, 20, [30, 40, [50, 60], 80], 90, 100]\n",
    "\n",
    "output\n",
    "\n",
    "list1 = [10, 20, [30, 40, [50, 60, 70], 80], 90, 100]"
   ]
  },
  {
   "cell_type": "code",
   "execution_count": 33,
   "metadata": {},
   "outputs": [],
   "source": [
    "# Method-1 using .append() fn\n",
    "\n",
    "list1 = [10, 20, [30, 40, [50, 60], 80], 90, 100]\n",
    "list1[2][2].append(70)"
   ]
  },
  {
   "cell_type": "code",
   "execution_count": 34,
   "metadata": {},
   "outputs": [
    {
     "name": "stdout",
     "output_type": "stream",
     "text": [
      "[10, 20, [30, 40, [50, 60, 70], 80], 90, 100]\n"
     ]
    }
   ],
   "source": [
    "print(list1)"
   ]
  },
  {
   "cell_type": "code",
   "execution_count": 41,
   "metadata": {},
   "outputs": [],
   "source": [
    "# Method-2 using .insert() fn\n",
    "\n",
    "list2 = [10, 20, [30, 40, [50, 60], 80], 90, 100]\n",
    "list2[2][2].insert(2,70)"
   ]
  },
  {
   "cell_type": "code",
   "execution_count": 42,
   "metadata": {},
   "outputs": [
    {
     "name": "stdout",
     "output_type": "stream",
     "text": [
      "[10, 20, [30, 40, [50, 60, 70], 80], 90, 100]\n"
     ]
    }
   ],
   "source": [
    "print(list2)"
   ]
  },
  {
   "cell_type": "code",
   "execution_count": null,
   "metadata": {},
   "outputs": [],
   "source": []
  },
  {
   "cell_type": "markdown",
   "metadata": {},
   "source": [
    "#### Add sublist [7,8]\n",
    "input\n",
    "list1 = [1,2,[3,4,5,6],9]\n",
    "\n",
    "output\n",
    "list1 = [1,2,[3,4,5,6,[7,8]],9]"
   ]
  },
  {
   "cell_type": "code",
   "execution_count": 68,
   "metadata": {},
   "outputs": [],
   "source": [
    "# Method-1 using .append() fn\n",
    "list1 = [1,2,[3,4,5,6],9]\n",
    "list2 = [7,8]"
   ]
  },
  {
   "cell_type": "code",
   "execution_count": null,
   "metadata": {},
   "outputs": [],
   "source": [
    "# Method-2 using .insert() fn\n",
    "list1 = [1,2,[3,4,5,6],9]"
   ]
  }
 ],
 "metadata": {
  "kernelspec": {
   "display_name": "Python 3",
   "language": "python",
   "name": "python3"
  },
  "language_info": {
   "codemirror_mode": {
    "name": "ipython",
    "version": 3
   },
   "file_extension": ".py",
   "mimetype": "text/x-python",
   "name": "python",
   "nbconvert_exporter": "python",
   "pygments_lexer": "ipython3",
   "version": "3.7.6"
  }
 },
 "nbformat": 4,
 "nbformat_minor": 4
}
