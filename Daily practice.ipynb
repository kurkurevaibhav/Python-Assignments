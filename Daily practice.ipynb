{
 "cells": [
  {
   "cell_type": "markdown",
   "metadata": {},
   "source": [
    "## <center>Practice for session on 24-Apr-2020       "
   ]
  },
  {
   "cell_type": "code",
   "execution_count": 14,
   "metadata": {},
   "outputs": [
    {
     "name": "stdout",
     "output_type": "stream",
     "text": [
      "Vaibhav Kurkure\n"
     ]
    }
   ],
   "source": [
    "# Parameter\n",
    " # ,end = ''\n",
    "    \n",
    "First_name = \"Vaibhav\"\n",
    "Last_name = \"Kurkure\"\n",
    "\n",
    "print(First_name,end =' ')\n",
    "print(Last_name)"
   ]
  },
  {
   "cell_type": "code",
   "execution_count": 10,
   "metadata": {},
   "outputs": [
    {
     "name": "stdout",
     "output_type": "stream",
     "text": [
      "My first name is Vaibhav & my last name is Kurkure\n"
     ]
    }
   ],
   "source": [
    "# + (Plus operator) also called as concatenation operator\n",
    "    # concatenation means merging of two string only not sting + num or int\n",
    "    \n",
    "First_name = \"Vaibhav\"\n",
    "Last_name = \"Kurkure\"\n",
    "\n",
    "print(\"My first name is \"+First_name+\" & my last name is \"+Last_name)"
   ]
  },
  {
   "cell_type": "code",
   "execution_count": 13,
   "metadata": {},
   "outputs": [
    {
     "name": "stdout",
     "output_type": "stream",
     "text": [
      "My complete name is Vaibhav Kurkure\n"
     ]
    }
   ],
   "source": [
    "First_name = \"Vaibhav\"\n",
    "Last_name = \"Kurkure\"\n",
    "\n",
    "print(\"My complete name is \"+First_name,Last_name)"
   ]
  },
  {
   "cell_type": "code",
   "execution_count": 24,
   "metadata": {},
   "outputs": [
    {
     "name": "stdout",
     "output_type": "stream",
     "text": [
      "Apple Mango Banana Grapes\n"
     ]
    }
   ],
   "source": [
    "fruit1 = \"Apple\"\n",
    "fruit2 = \"Mango\"\n",
    "fruit3 = \"Banana\"\n",
    "fruit4 = \"Grapes\"\n",
    "\n",
    "fruit = fruit1+\" \"+fruit2+\" \"+fruit3+\" \"+fruit4\n",
    "\n",
    "print(fruit)\n"
   ]
  },
  {
   "cell_type": "code",
   "execution_count": 6,
   "metadata": {},
   "outputs": [
    {
     "name": "stdout",
     "output_type": "stream",
     "text": [
      "I like Apple, Mango but also Banana and Grapes.\n",
      "I like 4 fruits namely Apple, Mango but also Banana and Grapes.\n"
     ]
    }
   ],
   "source": [
    "# .format() Fn\n",
    "\n",
    "fruit1 = \"Apple\"\n",
    "fruit2 = \"Mango\"\n",
    "fruit3 = \"Banana\"\n",
    "fruit4 = \"Grapes\"\n",
    "num = 4\n",
    "\n",
    "print(\"I like {}, {} but also {} and {}.\".format(fruit1,fruit2,fruit3,fruit4))                 # Note: {} = Place holder\n",
    "\n",
    "print(\"I like {} fruits namely {}, {} but also {} and {}.\".format(num,fruit1,fruit2,fruit3,fruit4)) \n",
    "# Note: no concatenation error for num due to format fn"
   ]
  },
  {
   "cell_type": "code",
   "execution_count": 5,
   "metadata": {},
   "outputs": [
    {
     "name": "stdout",
     "output_type": "stream",
     "text": [
      "Enter first name: Vaibhav\n",
      "Enter last name: Kurkure\n",
      "Welcome to Python course Vaibhav Kurkure\n"
     ]
    }
   ],
   "source": [
    "# input() Fn\n",
    "\n",
    "Name1 = input(\"Enter first name: \")\n",
    "Name2 = input(\"Enter last name: \")\n",
    "\n",
    "print(\"Welcome to Python course \"+Name1+\" \"+Name2)"
   ]
  },
  {
   "cell_type": "code",
   "execution_count": 12,
   "metadata": {},
   "outputs": [
    {
     "name": "stdout",
     "output_type": "stream",
     "text": [
      "Enter 1st no.: 25\n",
      "Enter 2nd no.: 28\n",
      "Addition of nos. 25 & 28 is = 2528.\n"
     ]
    }
   ],
   "source": [
    "# input() Fn      for addition of two nos.\n",
    "# W/o use of int() Fn\n",
    "\n",
    "num1 = input(\"Enter 1st no.: \")            # Enter 1st no.: 25-->\"25\"\n",
    "num2 = input(\"Enter 2nd no.: \")            # Enter 2nd no.: 28-->\"28\"\n",
    "\n",
    "num3 = num1+num2\n",
    "\n",
    "print(\"Addition of nos. {} & {} is = {}.\".format(num1,num2,num3))"
   ]
  },
  {
   "cell_type": "code",
   "execution_count": 11,
   "metadata": {},
   "outputs": [
    {
     "name": "stdout",
     "output_type": "stream",
     "text": [
      "Enter 1st no.: 25\n",
      "Enter 2nd no.: 28\n",
      "Addition of nos. 25 & 28 is = 53.\n",
      "Multiplication of nos. 25 & 28 is = 700.\n"
     ]
    }
   ],
   "source": [
    "# input() Fn      for addition of two nos.\n",
    "# Use of int() Fn converts string value to int value again entered by user.\n",
    "\n",
    "num1 = int(input(\"Enter 1st no.: \"))   # Enter 1st no.: 25-->\"25\"-->>25\n",
    "num2 = int(input(\"Enter 2nd no.: \"))   # Enter 2nd no.: 28-->\"28\"-->>28\n",
    "\n",
    "num3 = num1+num2                       # num3 = 25+28\n",
    "num4 = num1*num2                       # num3 = 25*28\n",
    "\n",
    "print(\"Addition of nos. {} & {} is = {}.\".format(num1,num2,num3))\n",
    "\n",
    "print(\"Multiplication of nos. {} & {} is = {}.\".format(num1,num2,num4))"
   ]
  },
  {
   "cell_type": "code",
   "execution_count": 13,
   "metadata": {},
   "outputs": [
    {
     "name": "stdout",
     "output_type": "stream",
     "text": [
      "Enter 1st no.: 5\n",
      "Enter 2nd no.: 8\n",
      "Addition of nos. 5 & 8 is = 13.\n",
      "Multiplication of nos. 5 & 8 is = 40.\n"
     ]
    }
   ],
   "source": [
    "# input() Fn      for addition of two nos.\n",
    "# Use of int() Fn converts string value to int value again entered by user.\n",
    "\n",
    "num1,num2 = int(input(\"Enter 1st no.: \")),int(input(\"Enter 2nd no.: \"))   # Enter 1st no.: 5-->\"5\"-->>5\n",
    "                                                                          # Enter 2nd no.: 8-->\"8\"-->>8\n",
    "\n",
    "num3 = num1+num2                       # num3 = 5+8\n",
    "num4 = num1*num2                       # num3 = 5*8\n",
    "\n",
    "print(\"Addition of nos. {} & {} is = {}.\".format(num1,num2,num3))\n",
    "\n",
    "print(\"Multiplication of nos. {} & {} is = {}.\".format(num1,num2,num4))"
   ]
  },
  {
   "cell_type": "markdown",
   "metadata": {},
   "source": [
    "# <center>Practice for session on 27-Apr-2020"
   ]
  },
  {
   "cell_type": "code",
   "execution_count": 2,
   "metadata": {},
   "outputs": [
    {
     "name": "stdout",
     "output_type": "stream",
     "text": [
      "I'm new to the Python programming I'm new to the Python programming\n"
     ]
    }
   ],
   "source": [
    "# Use of \\ (Backslash as a exception charecter)\n",
    "\n",
    "Var1 = 'I\\'m new to the Python programming'        # Either use \\ to continue the string\n",
    "\n",
    "Var2 = \"I'm new to the Python programming\"         # Or use \"\" if ' is present\n",
    "\n",
    "print(Var1,Var2)"
   ]
  },
  {
   "cell_type": "code",
   "execution_count": 27,
   "metadata": {},
   "outputs": [
    {
     "name": "stdout",
     "output_type": "stream",
     "text": [
      "33\n",
      "7\n"
     ]
    }
   ],
   "source": [
    "# len() operator to count the char in a string\n",
    "# It count all the char used within quotes \"\" or ''\n",
    "# ex1\n",
    "\n",
    "print(len(Var1))\n",
    "\n",
    "# Ex2\n",
    "des1 = \"Hello 1\"\n",
    "\n",
    "print(len(des1))"
   ]
  },
  {
   "cell_type": "code",
   "execution_count": 34,
   "metadata": {},
   "outputs": [
    {
     "name": "stdout",
     "output_type": "stream",
     "text": [
      "<class 'str'>\n",
      "<class 'int'>\n",
      "<class 'int'>\n",
      "<class 'float'>\n",
      "<class 'bool'>\n",
      "<class 'float'>\n"
     ]
    }
   ],
   "source": [
    "# To know the type of variables defined\n",
    "\n",
    "X = \"Vaibhav\"\n",
    "Y = 56\n",
    "Z = int(6)\n",
    "A = 56.78\n",
    "B = True\n",
    "C = -23.67\n",
    "\n",
    "print(type(X))\n",
    "print(type(Y))\n",
    "print(type(Z))\n",
    "print(type(A))\n",
    "print(type(B))\n",
    "print(type(C))"
   ]
  },
  {
   "cell_type": "code",
   "execution_count": 44,
   "metadata": {},
   "outputs": [
    {
     "name": "stdout",
     "output_type": "stream",
     "text": [
      "H\n",
      "o\n",
      "W\n",
      "h\n",
      "t\n"
     ]
    }
   ],
   "source": [
    "# Indexing [] operator\n",
    "\n",
    "X = \"Hello World\"\n",
    "Y = \"Python is a easiest lang to learn among all other lang's.\"\n",
    "print(X[0])\n",
    "print(X[4])\n",
    "print(X[-5])\n",
    "print(Y[3])\n",
    "print(Y[-12])"
   ]
  },
  {
   "cell_type": "code",
   "execution_count": 50,
   "metadata": {},
   "outputs": [
    {
     "name": "stdout",
     "output_type": "stream",
     "text": [
      "Welco\n",
      "Welcome to Pytho\n",
      "Wloet yhncus\n",
      "ecW\n"
     ]
    }
   ],
   "source": [
    "# Slicing [::] operator\n",
    "\n",
    "# Start -> starting position of str -->> No need to specify index value can be kept blank, space or a 0 (Zero).\n",
    "# Stop -> End position of str (next position is exclusive) & can go till the end, index value can be kept blank, space or a index pos).\n",
    "# Step -> as increment operator in multiply by **.\n",
    "\n",
    "X = \"Welcome to Python course\"\n",
    "Y = \"Welcome\"\n",
    "\n",
    "print(X[0:5])\n",
    "print(X[:-8])\n",
    "print(X[::2])\n",
    "\n",
    "print(Y[::-3])"
   ]
  },
  {
   "cell_type": "code",
   "execution_count": 53,
   "metadata": {},
   "outputs": [
    {
     "name": "stdout",
     "output_type": "stream",
     "text": [
      "Number is = 5\n"
     ]
    }
   ],
   "source": [
    "# Concatenation\n",
    "# Ex1\n",
    "num = 5\n",
    "var = \"Number is = \"\n",
    "\n",
    "num1 = str(num)           # Conversion & storing into new variable\n",
    "\n",
    "print(var+num1)"
   ]
  },
  {
   "cell_type": "code",
   "execution_count": 54,
   "metadata": {},
   "outputs": [
    {
     "name": "stdout",
     "output_type": "stream",
     "text": [
      "Number is = 5\n"
     ]
    }
   ],
   "source": [
    "# Concatenation\n",
    "# Ex2\n",
    "num = 5\n",
    "var = \"Number is = \"\n",
    "\n",
    "num = str(num)          # Conversion & storing into same variable\n",
    "\n",
    "print(var+num)"
   ]
  },
  {
   "cell_type": "code",
   "execution_count": 56,
   "metadata": {},
   "outputs": [
    {
     "name": "stdout",
     "output_type": "stream",
     "text": [
      "Free\n"
     ]
    }
   ],
   "source": [
    "# Immutability Fn\n",
    "\n",
    "name = \"Tree\"\n",
    "\n",
    "print(\"F\"+name[1:])      # As once variable is defined can't manupulate of change further\n",
    "                         # Hence, slicing is used here to manupulate the string"
   ]
  },
  {
   "cell_type": "code",
   "execution_count": 63,
   "metadata": {},
   "outputs": [
    {
     "name": "stdout",
     "output_type": "stream",
     "text": [
      "welcome to python\n",
      "False\n",
      "WELCOME TO PYTHON\n",
      "Welcome to python\n",
      "True\n"
     ]
    }
   ],
   "source": [
    "# Inbuilt Fn's\n",
    "# .endswith(), .upper(), .lower(), capitalize()\n",
    "\n",
    "X = \"welcome to PYTHON\"\n",
    "\n",
    "print(X.lower())\n",
    "print(X.endswith(\"n\"))\n",
    "print(X.upper())\n",
    "print(X.capitalize())\n",
    "print(X.startswith('w'))"
   ]
  },
  {
   "cell_type": "code",
   "execution_count": 65,
   "metadata": {},
   "outputs": [
    {
     "name": "stdout",
     "output_type": "stream",
     "text": [
      "True\n",
      "False\n"
     ]
    }
   ],
   "source": [
    "# in() fn\n",
    "\n",
    "X = \"Welcone to Python\"\n",
    "\n",
    "print(\"to\" in X)\n",
    "print('ot' in X)"
   ]
  },
  {
   "cell_type": "markdown",
   "metadata": {},
   "source": [
    "## <center>Practice for session on 28-Apr-2020"
   ]
  },
  {
   "cell_type": "markdown",
   "metadata": {},
   "source": [
    "## List\n",
    " \n",
    "     > Can hold/store all the data types\n",
    "     > Duplicate values are allowed\n",
    "     > Order is retained\n",
    "     > Indexing & slicing can be used\n",
    "     > Mutable"
   ]
  },
  {
   "cell_type": "code",
   "execution_count": 68,
   "metadata": {},
   "outputs": [
    {
     "name": "stdout",
     "output_type": "stream",
     "text": [
      "[1, 2, 3, 6.8, 7.12, True, 'Python']\n",
      "7\n",
      "<class 'list'>\n"
     ]
    }
   ],
   "source": [
    "# Exercise\n",
    "# Ex1\n",
    "\n",
    "list1 = [1,2,3,6.8,7.12,True,\"Python\"]\n",
    "\n",
    "print(list1)\n",
    "print(len(list1))\n",
    "print(type(list1))"
   ]
  },
  {
   "cell_type": "code",
   "execution_count": 74,
   "metadata": {},
   "outputs": [
    {
     "name": "stdout",
     "output_type": "stream",
     "text": [
      "7.12\n",
      "True\n"
     ]
    }
   ],
   "source": [
    "# Exercise\n",
    "# use of indexing & slicing\n",
    "\n",
    "print(list1[4])\n",
    "print(list1[-2])"
   ]
  },
  {
   "cell_type": "code",
   "execution_count": 75,
   "metadata": {},
   "outputs": [
    {
     "name": "stdout",
     "output_type": "stream",
     "text": [
      "[1, 2, 3, 4, 5]\n",
      "[4, 5, 6, 7, 8]\n",
      "[1, 3, 5, 7]\n"
     ]
    }
   ],
   "source": [
    "# Ex2\n",
    "\n",
    "list2 = [1,2,3,4,5,6,7,8]\n",
    "\n",
    "print(list2[:5])\n",
    "print(list2[-5:])\n",
    "print(list2[::2])"
   ]
  },
  {
   "cell_type": "code",
   "execution_count": 77,
   "metadata": {},
   "outputs": [
    {
     "name": "stdout",
     "output_type": "stream",
     "text": [
      "[0, 1, 2, 3, 700, 5.6]\n"
     ]
    }
   ],
   "source": [
    "# Mutable\n",
    "# It replace the values within the list defined\n",
    "# Ex1\n",
    "\n",
    "list3 = [0,1,2,3,0.5,5.6]\n",
    "\n",
    "list3[4] = 700\n",
    "\n",
    "print(list3)"
   ]
  },
  {
   "cell_type": "code",
   "execution_count": 86,
   "metadata": {},
   "outputs": [
    {
     "name": "stdout",
     "output_type": "stream",
     "text": [
      "[1, 2, 3, 6.8, 7.12, True, 'Python', 'Java']\n"
     ]
    }
   ],
   "source": [
    "# .append()  --> to obj @ end of the list\n",
    "\n",
    "list4 = [1,2,3,6.8,7.12,True,\"Python\"]\n",
    "\n",
    "list4.append(\"Java\")\n",
    "\n",
    "print(list4)"
   ]
  },
  {
   "cell_type": "code",
   "execution_count": 4,
   "metadata": {},
   "outputs": [
    {
     "name": "stdout",
     "output_type": "stream",
     "text": [
      "['Tiago', 'Sumo', 'Tigor', 'Harrier', 'Siera']\n"
     ]
    }
   ],
   "source": [
    "# Ex2\n",
    "\n",
    "list1 = [\"Tiago\",\"Sumo\",\"Tigor\",\"Scorpio\"]\n",
    "\n",
    "list1[3] = \"Harrier\"                       #  Replacing obj\n",
    "\n",
    "list1.append(\"Siera\")                      # Adding obj\n",
    "\n",
    "print(list1)"
   ]
  },
  {
   "cell_type": "code",
   "execution_count": 96,
   "metadata": {},
   "outputs": [
    {
     "name": "stdout",
     "output_type": "stream",
     "text": [
      "[1, 2, 3, 4, 6.8, 7.12, True, 'Python']\n",
      "[1, 2, 3, 4, 6.8, 7.12, True, False, 'Python']\n"
     ]
    }
   ],
   "source": [
    "# inbuilt fn's\n",
    "# .insert(POS,element)\n",
    "# Ex1\n",
    "\n",
    "list4 = [1,2,3,6.8,7.12,True,\"Python\"]\n",
    "\n",
    "list4.insert(3,4)\n",
    "\n",
    "print(list4)\n",
    "\n",
    "list4.insert(-1,False)\n",
    "\n",
    "print(list4)"
   ]
  },
  {
   "cell_type": "markdown",
   "metadata": {},
   "source": [
    "### Copying the lists\n",
    "    > list1_copy = list1\n",
    "    > list1_copy = list.copy()"
   ]
  },
  {
   "cell_type": "code",
   "execution_count": 5,
   "metadata": {},
   "outputs": [
    {
     "data": {
      "text/plain": [
       "[1, 2.2, 3.9, True, 'Python']"
      ]
     },
     "execution_count": 5,
     "metadata": {},
     "output_type": "execute_result"
    }
   ],
   "source": [
    "# Ex 1\n",
    "\n",
    "list1 = [1,2.2,3.9,True,\"Python\"]\n",
    "list1"
   ]
  },
  {
   "cell_type": "code",
   "execution_count": 7,
   "metadata": {},
   "outputs": [
    {
     "name": "stdout",
     "output_type": "stream",
     "text": [
      "[1, 2.2, 3.9, True, 'Python']\n",
      "[1, 2.2, 3.9, True, 'Python']\n"
     ]
    }
   ],
   "source": [
    "list1_copy = list1\n",
    "\n",
    "print(list1)\n",
    "print(list1_copy)"
   ]
  },
  {
   "cell_type": "code",
   "execution_count": 8,
   "metadata": {},
   "outputs": [
    {
     "name": "stdout",
     "output_type": "stream",
     "text": [
      "[2.2, 3, False, 'Java']\n"
     ]
    }
   ],
   "source": [
    "# Ex2\n",
    "\n",
    "list2 = [2.2,3,False,\"Java\"]\n",
    "print(list2)"
   ]
  },
  {
   "cell_type": "code",
   "execution_count": 11,
   "metadata": {},
   "outputs": [
    {
     "name": "stdout",
     "output_type": "stream",
     "text": [
      "[2.2, 3, False, 'Java']\n",
      "[2.2, 3, False, 'Java']\n"
     ]
    }
   ],
   "source": [
    "list2_copy = list2.copy()\n",
    "\n",
    "print(list2)\n",
    "print(list2_copy)"
   ]
  },
  {
   "cell_type": "markdown",
   "metadata": {},
   "source": [
    "#### Problem with assignment (=) operator"
   ]
  },
  {
   "cell_type": "code",
   "execution_count": 13,
   "metadata": {},
   "outputs": [
    {
     "name": "stdout",
     "output_type": "stream",
     "text": [
      "[1, 2.2, 3.9, True, 'Python']\n",
      "[1, 2.2, 3.9, True, 'Python']\n",
      "[2.2, 3, False, 'Java']\n",
      "[2.2, 3, False, 'Java']\n"
     ]
    }
   ],
   "source": [
    "print(list1)\n",
    "print(list1_copy)\n",
    "print(list2)\n",
    "print(list2_copy)"
   ]
  },
  {
   "cell_type": "code",
   "execution_count": 15,
   "metadata": {},
   "outputs": [
    {
     "name": "stdout",
     "output_type": "stream",
     "text": [
      "[1, 2.2, 3.9, False, 'Python']\n",
      "[1, 2.2, 3.9, False, 'Python']\n",
      "[2.2, 3, False, 'C++']\n",
      "[2.2, 3, False, 'Java']\n"
     ]
    }
   ],
   "source": [
    "list1_copy[3] = False\n",
    "list2_copy[3] = \"C++\"\n",
    "\n",
    "print(list1_copy) \n",
    "print(list1)      \n",
    "# The origional list is also changed -->> = operator\n",
    "\n",
    "print(list2_copy)   \n",
    "print(list2)\n",
    "# The origional list is not changed -->> .copy() operator \n"
   ]
  },
  {
   "cell_type": "code",
   "execution_count": 16,
   "metadata": {},
   "outputs": [
    {
     "name": "stdout",
     "output_type": "stream",
     "text": [
      "[1, 2, 3.5, 4.8, 'a', 'b', 'c', True, False]\n"
     ]
    }
   ],
   "source": [
    "# .extend()\n",
    "\n",
    "list1 = [1,2,3.5,4.8]\n",
    "list2 = [\"a\",\"b\",\"c\"]\n",
    "list3 = [True,False]\n",
    "\n",
    "list1.extend(list2)\n",
    "list1.extend(list3)\n",
    "\n",
    "print(list1)"
   ]
  },
  {
   "cell_type": "code",
   "execution_count": 19,
   "metadata": {},
   "outputs": [
    {
     "name": "stdout",
     "output_type": "stream",
     "text": [
      "[1, 2, 3.5, 4.8, 'a', 'b', 'c', True, False]\n"
     ]
    }
   ],
   "source": [
    "# using addition\n",
    "\n",
    "list1 = [1,2,3.5,4.8]\n",
    "list2 = [\"a\",\"b\",\"c\"]\n",
    "list3 = [True,False]\n",
    "\n",
    "list1 = list1+list2+list3\n",
    "\n",
    "print(list1)"
   ]
  },
  {
   "cell_type": "markdown",
   "metadata": {},
   "source": [
    "#### .pop(index)\n",
    " > To remove the element form specified index pos \n",
    "   & returns the element"
   ]
  },
  {
   "cell_type": "code",
   "execution_count": 25,
   "metadata": {},
   "outputs": [
    {
     "name": "stdout",
     "output_type": "stream",
     "text": [
      "3.5\n",
      "False\n",
      "[1, 2, 4.8]\n",
      "[True]\n"
     ]
    }
   ],
   "source": [
    "list1 = [1,2,3.5,4.8]\n",
    "list2 = [\"a\",\"b\",\"c\"]\n",
    "list3 = [True,False]\n",
    "\n",
    "print(list1.pop(2))\n",
    "\n",
    "remove = list3.pop(1)\n",
    "print(remove)"
   ]
  },
  {
   "cell_type": "code",
   "execution_count": 26,
   "metadata": {},
   "outputs": [
    {
     "name": "stdout",
     "output_type": "stream",
     "text": [
      "[1, 2, 4.8]\n",
      "[True]\n"
     ]
    }
   ],
   "source": [
    "# After removing the element\n",
    "\n",
    "print(list1)\n",
    "print(list3)"
   ]
  },
  {
   "cell_type": "markdown",
   "metadata": {},
   "source": [
    "#### Accesing the elements from the list"
   ]
  },
  {
   "cell_type": "code",
   "execution_count": 34,
   "metadata": {},
   "outputs": [
    {
     "data": {
      "text/plain": [
       "1.1"
      ]
     },
     "execution_count": 34,
     "metadata": {},
     "output_type": "execute_result"
    }
   ],
   "source": [
    "list1 = [1.1,2.2,[1,2,3,4],[\"a\",\"b\",\"c\"],[True,False]]\n",
    "\n",
    "list1[0]"
   ]
  },
  {
   "cell_type": "code",
   "execution_count": 29,
   "metadata": {},
   "outputs": [
    {
     "name": "stdout",
     "output_type": "stream",
     "text": [
      "2.2\n"
     ]
    }
   ],
   "source": [
    "# Access element 2.2\n",
    "\n",
    "print(list1[1])"
   ]
  },
  {
   "cell_type": "code",
   "execution_count": 31,
   "metadata": {},
   "outputs": [
    {
     "name": "stdout",
     "output_type": "stream",
     "text": [
      "b\n"
     ]
    }
   ],
   "source": [
    "# Access element \"b\"\n",
    "\n",
    "print(list1[3][1])"
   ]
  },
  {
   "cell_type": "code",
   "execution_count": 32,
   "metadata": {},
   "outputs": [
    {
     "name": "stdout",
     "output_type": "stream",
     "text": [
      "False\n"
     ]
    }
   ],
   "source": [
    "# Access element False\n",
    "\n",
    "print(list1[4][1])"
   ]
  },
  {
   "cell_type": "code",
   "execution_count": 35,
   "metadata": {},
   "outputs": [
    {
     "name": "stdout",
     "output_type": "stream",
     "text": [
      "6\n"
     ]
    }
   ],
   "source": [
    "# Ex2\n",
    "\n",
    "list1 = [[1,2,3],[4,5,6],[7,8,9]]\n",
    "\n",
    "print(list1[1][2])"
   ]
  },
  {
   "cell_type": "code",
   "execution_count": 39,
   "metadata": {},
   "outputs": [
    {
     "name": "stdout",
     "output_type": "stream",
     "text": [
      "[1, 2, [3, 4, 5, 6, [7, 8, 9]]]\n"
     ]
    }
   ],
   "source": [
    "# Ex3\n",
    "\n",
    "list3 = [1,2,[3,4,5,6,[7,8,9]]]\n",
    "\n",
    "print(list3)"
   ]
  },
  {
   "cell_type": "code",
   "execution_count": 42,
   "metadata": {},
   "outputs": [
    {
     "name": "stdout",
     "output_type": "stream",
     "text": [
      "2\n"
     ]
    }
   ],
   "source": [
    "# Access element 2\n",
    "print(list3[1])"
   ]
  },
  {
   "cell_type": "code",
   "execution_count": 43,
   "metadata": {},
   "outputs": [
    {
     "name": "stdout",
     "output_type": "stream",
     "text": [
      "4\n"
     ]
    }
   ],
   "source": [
    "# Access element 4\n",
    "print(list3[2][1])"
   ]
  },
  {
   "cell_type": "code",
   "execution_count": 45,
   "metadata": {},
   "outputs": [
    {
     "name": "stdout",
     "output_type": "stream",
     "text": [
      "[7, 8, 9]\n"
     ]
    }
   ],
   "source": [
    "# Access element 7,8,9\n",
    "print(list3[2][4])"
   ]
  },
  {
   "cell_type": "code",
   "execution_count": 50,
   "metadata": {},
   "outputs": [
    {
     "name": "stdout",
     "output_type": "stream",
     "text": [
      "9\n",
      "9\n"
     ]
    }
   ],
   "source": [
    "# Access element 9\n",
    "print(list3[2][4][2])\n",
    "print(list3[-1][-1][-1])"
   ]
  },
  {
   "cell_type": "code",
   "execution_count": 52,
   "metadata": {},
   "outputs": [
    {
     "name": "stdout",
     "output_type": "stream",
     "text": [
      "[3, 4, 5, 6]\n"
     ]
    }
   ],
   "source": [
    "# Access element 3,4,5,6\n",
    "print(list3[2][:4])"
   ]
  },
  {
   "cell_type": "markdown",
   "metadata": {},
   "source": [
    "## <center>Practice for session on 29-Apr-2020"
   ]
  },
  {
   "cell_type": "markdown",
   "metadata": {},
   "source": [
    "#### Dictionaries"
   ]
  },
  {
   "cell_type": "code",
   "execution_count": 54,
   "metadata": {},
   "outputs": [
    {
     "name": "stdout",
     "output_type": "stream",
     "text": [
      "{'Brand': 'HONDA', 'Model': 'CBR-250', 'Year': '2020'}\n",
      "3\n"
     ]
    }
   ],
   "source": [
    "dict1 = {\n",
    "    \"Brand\" : \"HONDA\",\n",
    "    \"Model\" : \"CBR-250\",\n",
    "    \"Year\" : \"2020\",\n",
    "}\n",
    "\n",
    "print(dict1)\n",
    "print(len(dict1))"
   ]
  },
  {
   "cell_type": "code",
   "execution_count": 58,
   "metadata": {},
   "outputs": [
    {
     "name": "stdout",
     "output_type": "stream",
     "text": [
      "CBR-250\n",
      "CBR-250\n"
     ]
    }
   ],
   "source": [
    "print(dict1[\"Model\"])\n",
    "\n",
    "X= dict1[\"Model\"]\n",
    "print(X)"
   ]
  },
  {
   "cell_type": "code",
   "execution_count": 59,
   "metadata": {},
   "outputs": [
    {
     "name": "stdout",
     "output_type": "stream",
     "text": [
      "CBR-250\n"
     ]
    }
   ],
   "source": [
    "print(dict1.get(\"Model\"))"
   ]
  },
  {
   "cell_type": "code",
   "execution_count": null,
   "metadata": {},
   "outputs": [],
   "source": []
  }
 ],
 "metadata": {
  "kernelspec": {
   "display_name": "Python 3",
   "language": "python",
   "name": "python3"
  },
  "language_info": {
   "codemirror_mode": {
    "name": "ipython",
    "version": 3
   },
   "file_extension": ".py",
   "mimetype": "text/x-python",
   "name": "python",
   "nbconvert_exporter": "python",
   "pygments_lexer": "ipython3",
   "version": "3.7.6"
  }
 },
 "nbformat": 4,
 "nbformat_minor": 4
}
