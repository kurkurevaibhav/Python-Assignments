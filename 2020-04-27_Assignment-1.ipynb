{
 "cells": [
  {
   "cell_type": "code",
   "execution_count": 2,
   "metadata": {},
   "outputs": [
    {
     "name": "stdout",
     "output_type": "stream",
     "text": [
      "str1 contains to = True\n",
      "True\n"
     ]
    }
   ],
   "source": [
    "# find()\n",
    "\n",
    "str1 = 'Welcome to Python'\n",
    "\n",
    "print('str1 contains to =', str1.__contains__('to'))"
   ]
  },
  {
   "cell_type": "code",
   "execution_count": 3,
   "metadata": {},
   "outputs": [
    {
     "name": "stdout",
     "output_type": "stream",
     "text": [
      "True\n"
     ]
    }
   ],
   "source": [
    "str1 = 'Welcome to Python'\n",
    "\n",
    "print ('to'in str1)"
   ]
  },
  {
   "cell_type": "code",
   "execution_count": 24,
   "metadata": {},
   "outputs": [
    {
     "name": "stdout",
     "output_type": "stream",
     "text": [
      "Python is Nice\n",
      "cocodo\n"
     ]
    }
   ],
   "source": [
    "# Replace()\n",
    "# simple string replace example\n",
    "\n",
    "s = 'Java is Nice'\n",
    "\n",
    "str_new = s.replace('Java', 'Python')\n",
    "\n",
    "print(str_new)\n",
    "\n",
    "\n",
    "# replace character in string with count\n",
    "\n",
    "s = 'dododo'\n",
    "\n",
    "str_new = s.replace('d', 'c' ,2)\n",
    "\n",
    "print(str_new)\n"
   ]
  },
  {
   "cell_type": "code",
   "execution_count": 22,
   "metadata": {},
   "outputs": [
    {
     "name": "stdout",
     "output_type": "stream",
     "text": [
      "x y z\n",
      "xabcyabcz\n"
     ]
    }
   ],
   "source": [
    "# join()\n",
    "# w/o variables defined\n",
    "\n",
    "s = ' '.join('xyz')\n",
    "\n",
    "print(s)\n",
    "\n",
    "\n",
    "# with variables defined\n",
    "s = 'abc'\n",
    "\n",
    "s1 = s.join('xyz')\n",
    "\n",
    "print(s1)"
   ]
  },
  {
   "cell_type": "code",
   "execution_count": 6,
   "metadata": {},
   "outputs": [],
   "source": [
    "# .insert(pos,element)\n",
    "\n",
    "my_list = [1,2,3,5,6]\n",
    "my_list.insert(3,4)"
   ]
  },
  {
   "cell_type": "code",
   "execution_count": null,
   "metadata": {},
   "outputs": [],
   "source": []
  }
 ],
 "metadata": {
  "kernelspec": {
   "display_name": "Python 3",
   "language": "python",
   "name": "python3"
  },
  "language_info": {
   "codemirror_mode": {
    "name": "ipython",
    "version": 3
   },
   "file_extension": ".py",
   "mimetype": "text/x-python",
   "name": "python",
   "nbconvert_exporter": "python",
   "pygments_lexer": "ipython3",
   "version": "3.7.6"
  }
 },
 "nbformat": 4,
 "nbformat_minor": 4
}
