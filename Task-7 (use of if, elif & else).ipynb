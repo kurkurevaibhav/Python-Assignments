{
 "cells": [
  {
   "cell_type": "markdown",
   "metadata": {},
   "source": [
    "#### Task\n",
    "    Ask 2 numbers from users and store it in num1 and num2\n",
    "    Ask user to press 1 for addition, 2 for subtraction, 3 for multiplication and 4 for division\n",
    "    Based on number given by user do the math operation"
   ]
  },
  {
   "cell_type": "code",
   "execution_count": 14,
   "metadata": {},
   "outputs": [
    {
     "name": "stdout",
     "output_type": "stream",
     "text": [
      "Enter first no.: 5\n",
      "Enter second no.: 6\n",
      "Enter any one value descibed below, \n",
      "Addition: 1  \n",
      "Subtraction: 2 \n",
      "Multiplication: 3 \n",
      "Division: 4\n",
      "Enter keyword: 3\n",
      "Multiplication of 5 & 6 is =  30\n"
     ]
    }
   ],
   "source": [
    "num1 = input(\"Enter first no.: \")\n",
    "num2 = input(\"Enter second no.: \")\n",
    "num3 = int(num1)\n",
    "num4 = int(num2)\n",
    "print(\"Enter any one value descibed below, \\nAddition: 1  \\nSubtraction: 2 \\nMultiplication: 3 \\nDivision: 4\")\n",
    "\n",
    "Operation = int(input(\"Enter keyword: \"))\n",
    "\n",
    "if(Operation == 1):\n",
    "    print(\"Addition of \"+num1+\" & \"+num2+\" is = \",num3+num4)\n",
    "elif(Operation == 2):\n",
    "    print(\"Subtraction of \"+num1+\" & \"+num2+\" is = \",num3-num4)\n",
    "elif(Operation == 3):\n",
    "    print(\"Multiplication of \"+num1+\" & \"+num2+\" is = \",num3*num4)\n",
    "elif(Operation == 4):\n",
    "    print(\"Division of \"+num1+\" & \"+num2+\" is = \",num3/num4)\n",
    "else:\n",
    "    print(\"Invalid keywords entered\")"
   ]
  },
  {
   "cell_type": "code",
   "execution_count": null,
   "metadata": {},
   "outputs": [],
   "source": [
    "num1 = input(\"Enter first no.: \")\n",
    "num2 = input(\"Enter second no.: \")\n",
    "num3 = int(num1)\n",
    "num4 = int(num2)\n",
    "print(\"Enter any one value descibed below, \\nAddition: 1  \\nSubtraction: 2 \\nMultiplication: 3 \\nDivision: 4\")\n",
    "\n",
    "Operation = int(input(\"Enter keyword: \"))\n",
    "\n",
    "if(Operation == 1):\n",
    "    print(\"Addition of \"+num1+\" & \"+num2+\" is = \",num3+num4)\n",
    "elif(Operation == 2):\n",
    "    print(\"Subtraction of \"+num1+\" & \"+num2+\" is = \",num3-num4)\n",
    "elif(Operation == 3):\n",
    "    print(\"Multiplication of \"+num1+\" & \"+num2+\" is = \",num3*num4)\n",
    "elif(Operation == 4):\n",
    "    print(\"Division of \"+num1+\" & \"+num2+\" is = \",num3/num4)\n",
    "    print(\"Enter 'I' for integer\")\n",
    "    Operation1 = input(\"Enter keyword: \")\n",
    "    if(Operation1 == I):\n",
    "        print(num3//num4)\n",
    "    else:\n",
    "        print(num3/num4)\n",
    "else:\n",
    "    print(\"Invalid keywords entered\")"
   ]
  }
 ],
 "metadata": {
  "kernelspec": {
   "display_name": "Python 3",
   "language": "python",
   "name": "python3"
  },
  "language_info": {
   "codemirror_mode": {
    "name": "ipython",
    "version": 3
   },
   "file_extension": ".py",
   "mimetype": "text/x-python",
   "name": "python",
   "nbconvert_exporter": "python",
   "pygments_lexer": "ipython3",
   "version": "3.7.6"
  }
 },
 "nbformat": 4,
 "nbformat_minor": 4
}
